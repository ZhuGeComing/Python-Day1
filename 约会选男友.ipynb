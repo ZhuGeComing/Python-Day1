{
 "cells": [
  {
   "cell_type": "code",
   "execution_count": 79,
   "metadata": {
    "collapsed": false
   },
   "outputs": [],
   "source": [
    "import numpy as np\n",
    "import operator\n",
    "import pandas as pd\n",
    "from sklearn.preprocessing import LabelEncoder, Normalizer, StandardScaler\n",
    "from sklearn.datasets import load_iris\n",
    "from sklearn.neighbors import KNeighborsClassifier\n",
    "from sklearn.cross_validation import train_test_split\n",
    "from sklearn.metrics import classification_report"
   ]
  },
  {
   "cell_type": "code",
   "execution_count": 80,
   "metadata": {
    "collapsed": false
   },
   "outputs": [],
   "source": [
    "def readfile(filename):\n",
    "    # filename = \n",
    "    \"\"\" D每年获得的飞行常客里程数\n",
    "    D玩视频游戏所耗时间百分比\n",
    "    D每周消费的冰淇淋公升数\"\"\"\n",
    "    columns_names = ['flight', 'games', 'icecream', 'type']\n",
    "    originalData = pd.read_csv(filename, delimiter='\\t', names=columns_names)\n",
    "    target_names = originalData.type\n",
    "    enc = LabelEncoder()\n",
    "    enc.fit(target_names)\n",
    "    testTarget = enc.transform(target_names)\n",
    "    del originalData['type']\n",
    "    # originalData\n",
    "    return originalData, target_names"
   ]
  },
  {
   "cell_type": "code",
   "execution_count": 115,
   "metadata": {
    "collapsed": false
   },
   "outputs": [
    {
     "data": {
      "text/plain": [
       "KNeighborsClassifier(algorithm='auto', leaf_size=30, metric='minkowski',\n",
       "           metric_params=None, n_jobs=1, n_neighbors=5, p=2,\n",
       "           weights='uniform')"
      ]
     },
     "execution_count": 115,
     "metadata": {},
     "output_type": "execute_result"
    }
   ],
   "source": [
    "testData, testLabel = readfile('datingTestSet2.txt')\n",
    "X_train, X_test, y_train, y_test = train_test_split(testData, testLabel)\n",
    "norm = StandardScaler()\n",
    "norm.fit(X_train)\n",
    "NormalizedTrain = norm.transform(X_train)\n",
    "NormalizedTest = norm.transform(X_test)\n",
    "knn = KNeighborsClassifier()\n",
    "knn.fit(NormalizedTrain, y_train)"
   ]
  },
  {
   "cell_type": "code",
   "execution_count": 125,
   "metadata": {
    "collapsed": false
   },
   "outputs": [
    {
     "data": {
      "text/plain": [
       "(1, 250)"
      ]
     },
     "execution_count": 125,
     "metadata": {},
     "output_type": "execute_result"
    }
   ],
   "source": [
    "knn.predict(NormalizedTest)\n",
    "predictedLabel = y_test.reshape(1, -1)\n",
    "# predictedLabel.shape\n",
    "# [i for i in predictedLabel][0]"
   ]
  },
  {
   "cell_type": "code",
   "execution_count": 129,
   "metadata": {
    "collapsed": false
   },
   "outputs": [
    {
     "name": "stdout",
     "output_type": "stream",
     "text": [
      "             precision    recall  f1-score   support\n",
      "\n",
      "          1       0.95      0.93      0.94        86\n",
      "          2       0.96      0.96      0.96        84\n",
      "          3       0.93      0.95      0.94        80\n",
      "\n",
      "avg / total       0.95      0.95      0.95       250\n",
      "\n"
     ]
    }
   ],
   "source": [
    "print(classification_report(knn.predict(NormalizedTest), predictedLabel[0]))"
   ]
  },
  {
   "cell_type": "code",
   "execution_count": null,
   "metadata": {
    "collapsed": true
   },
   "outputs": [],
   "source": []
  }
 ],
 "metadata": {
  "anaconda-cloud": {},
  "kernelspec": {
   "display_name": "Python [conda root]",
   "language": "python",
   "name": "conda-root-py"
  },
  "language_info": {
   "codemirror_mode": {
    "name": "ipython",
    "version": 3
   },
   "file_extension": ".py",
   "mimetype": "text/x-python",
   "name": "python",
   "nbconvert_exporter": "python",
   "pygments_lexer": "ipython3",
   "version": "3.5.2"
  }
 },
 "nbformat": 4,
 "nbformat_minor": 1
}
