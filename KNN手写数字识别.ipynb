{
 "cells": [
  {
   "cell_type": "markdown",
   "metadata": {},
   "source": [
    "# 数字识别 "
   ]
  },
  {
   "cell_type": "markdown",
   "metadata": {},
   "source": [
    "## 首先导入数据"
   ]
  },
  {
   "cell_type": "code",
   "execution_count": 90,
   "metadata": {
    "collapsed": true
   },
   "outputs": [],
   "source": [
    "import os\n",
    "import numpy as np\n",
    "import operator\n",
    "import pandas as pd\n",
    "from sklearn.preprocessing import LabelEncoder, Normalizer, StandardScaler\n",
    "from sklearn.datasets import load_iris\n",
    "from sklearn.neighbors import KNeighborsClassifier\n",
    "from sklearn.cross_validation import train_test_split\n",
    "from sklearn.metrics import classification_report"
   ]
  },
  {
   "cell_type": "code",
   "execution_count": 91,
   "metadata": {
    "collapsed": false
   },
   "outputs": [],
   "source": [
    "def getNumStr(filename):\n",
    "    testfilenames = os.listdir(filename)\n",
    "    len(testfilenames)\n",
    "    classNumStr = []\n",
    "    for _, i in enumerate(testfilenames):\n",
    "       classNumStr.append(i.split('.')[0].split('_')[0])\n",
    "    return np.array(classNumStr)"
   ]
  },
  {
   "cell_type": "code",
   "execution_count": 92,
   "metadata": {
    "collapsed": false
   },
   "outputs": [],
   "source": [
    "filename = 'trainingDigits/'\n",
    "trainTargets = getNumStr(filename)"
   ]
  },
  {
   "cell_type": "code",
   "execution_count": 93,
   "metadata": {
    "collapsed": true
   },
   "outputs": [],
   "source": [
    "def img2vectro(filename):\n",
    "    temp = np.zeros([1, 1024])\n",
    "    file = open('trainingDigits/%s'%filename)\n",
    "    for i in range(32):\n",
    "        lineStr = file.readline()\n",
    "        for j in range(32):\n",
    "            temp[0, i*32 + j] =int(lineStr[j])\n",
    "    return temp"
   ]
  },
  {
   "cell_type": "code",
   "execution_count": 113,
   "metadata": {
    "collapsed": false
   },
   "outputs": [],
   "source": [
    "# test = img2vectro('3_13.txt')\n",
    "# np.ones([1, 1024])\n",
    "# np.sum(test == 1)"
   ]
  },
  {
   "cell_type": "code",
   "execution_count": 112,
   "metadata": {
    "collapsed": false
   },
   "outputs": [],
   "source": [
    "testfilenames = os.listdir(filename)\n",
    "trainingMat = np.zeros([len(testfilenames), 1024])\n",
    "for index, value in enumerate(testfilenames):\n",
    "#     print(index, value)\n",
    "    trainingMat[index, :] = img2vectro(value)\n",
    "# np.sum(trainingMat == 1)\n",
    "# trainingMat"
   ]
  },
  {
   "cell_type": "code",
   "execution_count": 107,
   "metadata": {
    "collapsed": false
   },
   "outputs": [
    {
     "name": "stdout",
     "output_type": "stream",
     "text": [
      "['3' '5' '5' '4' '1' '5' '0' '0' '2' '5']\n",
      "['3' '5' '5' '4' '1' '5' '0' '0' '2' '5']\n"
     ]
    }
   ],
   "source": [
    "knn = KNeighborsClassifier()\n",
    "knn.fit(trainingMat, trainTargets)\n",
    "print(knn.predict(trainingMat[:10]))\n",
    "print(trainTargets[:10])"
   ]
  },
  {
   "cell_type": "code",
   "execution_count": 111,
   "metadata": {
    "collapsed": false
   },
   "outputs": [
    {
     "name": "stdout",
     "output_type": "stream",
     "text": [
      "             precision    recall  f1-score   support\n",
      "\n",
      "          0       0.99      1.00      0.99       187\n",
      "          1       0.99      0.93      0.96       211\n",
      "          2       0.99      0.99      0.99       195\n",
      "          3       0.99      0.98      0.99       203\n",
      "          4       0.97      0.98      0.98       184\n",
      "          5       0.98      0.99      0.98       185\n",
      "          6       0.99      0.98      0.99       196\n",
      "          7       0.99      0.99      0.99       201\n",
      "          8       0.93      1.00      0.97       168\n",
      "          9       0.98      0.98      0.98       204\n",
      "\n",
      "avg / total       0.98      0.98      0.98      1934\n",
      "\n"
     ]
    }
   ],
   "source": [
    "print(classification_report(knn.predict(trainingMat), trainTargets))"
   ]
  },
  {
   "cell_type": "code",
   "execution_count": 115,
   "metadata": {
    "collapsed": true
   },
   "outputs": [],
   "source": [
    "filename = 'testDigits/'\n",
    "testTargets = getNumStr(filename)\n",
    "testfilenames = os.listdir(filename)\n",
    "testMat = np.zeros([len(testfilenames), 1024])\n",
    "for index, value in enumerate(testfilenames):\n",
    "#     print(index, value)\n",
    "    testMat[index, :] = img2vectro(value)"
   ]
  },
  {
   "cell_type": "code",
   "execution_count": 121,
   "metadata": {
    "collapsed": false
   },
   "outputs": [
    {
     "name": "stdout",
     "output_type": "stream",
     "text": [
      "             precision    recall  f1-score   support\n",
      "\n",
      "          0       0.99      1.00      0.99        86\n",
      "          1       1.00      0.92      0.96       105\n",
      "          2       1.00      1.00      1.00        92\n",
      "          3       1.00      0.99      0.99        86\n",
      "          4       0.96      1.00      0.98       110\n",
      "          5       0.96      0.99      0.98       105\n",
      "          6       1.00      0.97      0.98        90\n",
      "          7       0.99      0.99      0.99        96\n",
      "          8       0.92      1.00      0.96        84\n",
      "          9       0.98      0.95      0.96        92\n",
      "\n",
      "avg / total       0.98      0.98      0.98       946\n",
      "\n"
     ]
    }
   ],
   "source": [
    "# len(testfilenames)\n",
    "# testMat.shape\n",
    "# knn.predict(testMat[:10])\n",
    "print(classification_report(knn.predict(testMat), testTargets))"
   ]
  }
 ],
 "metadata": {
  "anaconda-cloud": {},
  "kernelspec": {
   "display_name": "Python [conda root]",
   "language": "python",
   "name": "conda-root-py"
  },
  "language_info": {
   "codemirror_mode": {
    "name": "ipython",
    "version": 3
   },
   "file_extension": ".py",
   "mimetype": "text/x-python",
   "name": "python",
   "nbconvert_exporter": "python",
   "pygments_lexer": "ipython3",
   "version": "3.5.2"
  }
 },
 "nbformat": 4,
 "nbformat_minor": 1
}
